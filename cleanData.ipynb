{
  "cells": [
    {
      "cell_type": "code",
      "execution_count": 4,
      "metadata": {
        "id": "0EQOI3BSOypA"
      },
      "outputs": [],
      "source": [
        "import numpy as np\n",
        "import pandas as pd\n",
        "import matplotlib.pyplot as plt\n",
        "import ast"
      ]
    },
    {
      "cell_type": "code",
      "execution_count": 5,
      "metadata": {
        "colab": {
          "base_uri": "https://localhost:8080/",
          "height": 615
        },
        "id": "JJlNFhEaPmUc",
        "outputId": "0699bbbf-89dc-48b6-b389-0f645f426a78"
      },
      "outputs": [
        {
          "data": {
            "text/html": [
              "<div>\n",
              "<style scoped>\n",
              "    .dataframe tbody tr th:only-of-type {\n",
              "        vertical-align: middle;\n",
              "    }\n",
              "\n",
              "    .dataframe tbody tr th {\n",
              "        vertical-align: top;\n",
              "    }\n",
              "\n",
              "    .dataframe thead th {\n",
              "        text-align: right;\n",
              "    }\n",
              "</style>\n",
              "<table border=\"1\" class=\"dataframe\">\n",
              "  <thead>\n",
              "    <tr style=\"text-align: right;\">\n",
              "      <th></th>\n",
              "      <th>Unnamed: 0</th>\n",
              "      <th>Book</th>\n",
              "      <th>Author</th>\n",
              "      <th>Description</th>\n",
              "      <th>Genres</th>\n",
              "      <th>Avg_Rating</th>\n",
              "      <th>Num_Ratings</th>\n",
              "      <th>URL</th>\n",
              "    </tr>\n",
              "  </thead>\n",
              "  <tbody>\n",
              "    <tr>\n",
              "      <th>0</th>\n",
              "      <td>0</td>\n",
              "      <td>To Kill a Mockingbird</td>\n",
              "      <td>Harper Lee</td>\n",
              "      <td>The unforgettable novel of a childhood in a sl...</td>\n",
              "      <td>['Classics', 'Fiction', 'Historical Fiction', ...</td>\n",
              "      <td>4.27</td>\n",
              "      <td>5,691,311</td>\n",
              "      <td>https://www.goodreads.com/book/show/2657.To_Ki...</td>\n",
              "    </tr>\n",
              "    <tr>\n",
              "      <th>1</th>\n",
              "      <td>1</td>\n",
              "      <td>Harry Potter and the Philosopher’s Stone (Harr...</td>\n",
              "      <td>J.K. Rowling</td>\n",
              "      <td>Harry Potter thinks he is an ordinary boy - un...</td>\n",
              "      <td>['Fantasy', 'Fiction', 'Young Adult', 'Magic',...</td>\n",
              "      <td>4.47</td>\n",
              "      <td>9,278,135</td>\n",
              "      <td>https://www.goodreads.com/book/show/72193.Harr...</td>\n",
              "    </tr>\n",
              "    <tr>\n",
              "      <th>2</th>\n",
              "      <td>2</td>\n",
              "      <td>Pride and Prejudice</td>\n",
              "      <td>Jane Austen</td>\n",
              "      <td>Since its immediate success in 1813, Pride and...</td>\n",
              "      <td>['Classics', 'Fiction', 'Romance', 'Historical...</td>\n",
              "      <td>4.28</td>\n",
              "      <td>3,944,155</td>\n",
              "      <td>https://www.goodreads.com/book/show/1885.Pride...</td>\n",
              "    </tr>\n",
              "    <tr>\n",
              "      <th>3</th>\n",
              "      <td>3</td>\n",
              "      <td>The Diary of a Young Girl</td>\n",
              "      <td>Anne Frank</td>\n",
              "      <td>Discovered in the attic in which she spent the...</td>\n",
              "      <td>['Classics', 'Nonfiction', 'History', 'Biograp...</td>\n",
              "      <td>4.18</td>\n",
              "      <td>3,488,438</td>\n",
              "      <td>https://www.goodreads.com/book/show/48855.The_...</td>\n",
              "    </tr>\n",
              "    <tr>\n",
              "      <th>4</th>\n",
              "      <td>4</td>\n",
              "      <td>Animal Farm</td>\n",
              "      <td>George Orwell</td>\n",
              "      <td>Librarian's note: There is an Alternate Cover ...</td>\n",
              "      <td>['Classics', 'Fiction', 'Dystopia', 'Fantasy',...</td>\n",
              "      <td>3.98</td>\n",
              "      <td>3,575,172</td>\n",
              "      <td>https://www.goodreads.com/book/show/170448.Ani...</td>\n",
              "    </tr>\n",
              "    <tr>\n",
              "      <th>...</th>\n",
              "      <td>...</td>\n",
              "      <td>...</td>\n",
              "      <td>...</td>\n",
              "      <td>...</td>\n",
              "      <td>...</td>\n",
              "      <td>...</td>\n",
              "      <td>...</td>\n",
              "      <td>...</td>\n",
              "    </tr>\n",
              "    <tr>\n",
              "      <th>9995</th>\n",
              "      <td>9995</td>\n",
              "      <td>Breeders (Breeders Trilogy, #1)</td>\n",
              "      <td>Ashley Quigley</td>\n",
              "      <td>How far would you go? If human society was gen...</td>\n",
              "      <td>['Dystopia', 'Science Fiction', 'Post Apocalyp...</td>\n",
              "      <td>3.44</td>\n",
              "      <td>276</td>\n",
              "      <td>https://www.goodreads.com/book/show/22085400-b...</td>\n",
              "    </tr>\n",
              "    <tr>\n",
              "      <th>9996</th>\n",
              "      <td>9996</td>\n",
              "      <td>Dynamo</td>\n",
              "      <td>Eleanor Gustafson</td>\n",
              "      <td>Jeth Cavanaugh is searching for a new life alo...</td>\n",
              "      <td>[]</td>\n",
              "      <td>4.23</td>\n",
              "      <td>60</td>\n",
              "      <td>https://www.goodreads.com/book/show/20862902-d...</td>\n",
              "    </tr>\n",
              "    <tr>\n",
              "      <th>9997</th>\n",
              "      <td>9997</td>\n",
              "      <td>The Republic of Trees</td>\n",
              "      <td>Sam Taylor</td>\n",
              "      <td>This dark fable tells the story of four Englis...</td>\n",
              "      <td>['Fiction', 'Horror', 'Dystopia', 'Coming Of A...</td>\n",
              "      <td>3.29</td>\n",
              "      <td>383</td>\n",
              "      <td>https://www.goodreads.com/book/show/891262.The...</td>\n",
              "    </tr>\n",
              "    <tr>\n",
              "      <th>9998</th>\n",
              "      <td>9998</td>\n",
              "      <td>Waking Up (Healing Hearts, #1)</td>\n",
              "      <td>Renee Dyer</td>\n",
              "      <td>For Adriana Monroe life couldn’t get any bette...</td>\n",
              "      <td>['New Adult', 'Romance', 'Contemporary Romance...</td>\n",
              "      <td>4.13</td>\n",
              "      <td>263</td>\n",
              "      <td>https://www.goodreads.com/book/show/19347252-w...</td>\n",
              "    </tr>\n",
              "    <tr>\n",
              "      <th>9999</th>\n",
              "      <td>9999</td>\n",
              "      <td>Bits and Pieces: Tales and Sonnets</td>\n",
              "      <td>Jas T. Ward</td>\n",
              "      <td>After demands of thousands of fans in various ...</td>\n",
              "      <td>[]</td>\n",
              "      <td>5.00</td>\n",
              "      <td>36</td>\n",
              "      <td>https://www.goodreads.com/book/show/21302552-b...</td>\n",
              "    </tr>\n",
              "  </tbody>\n",
              "</table>\n",
              "<p>10000 rows × 8 columns</p>\n",
              "</div>"
            ],
            "text/plain": [
              "      Unnamed: 0                                               Book  \\\n",
              "0              0                              To Kill a Mockingbird   \n",
              "1              1  Harry Potter and the Philosopher’s Stone (Harr...   \n",
              "2              2                                Pride and Prejudice   \n",
              "3              3                          The Diary of a Young Girl   \n",
              "4              4                                        Animal Farm   \n",
              "...          ...                                                ...   \n",
              "9995        9995                    Breeders (Breeders Trilogy, #1)   \n",
              "9996        9996                                             Dynamo   \n",
              "9997        9997                              The Republic of Trees   \n",
              "9998        9998                     Waking Up (Healing Hearts, #1)   \n",
              "9999        9999                 Bits and Pieces: Tales and Sonnets   \n",
              "\n",
              "                 Author                                        Description  \\\n",
              "0            Harper Lee  The unforgettable novel of a childhood in a sl...   \n",
              "1          J.K. Rowling  Harry Potter thinks he is an ordinary boy - un...   \n",
              "2           Jane Austen  Since its immediate success in 1813, Pride and...   \n",
              "3            Anne Frank  Discovered in the attic in which she spent the...   \n",
              "4         George Orwell  Librarian's note: There is an Alternate Cover ...   \n",
              "...                 ...                                                ...   \n",
              "9995     Ashley Quigley  How far would you go? If human society was gen...   \n",
              "9996  Eleanor Gustafson  Jeth Cavanaugh is searching for a new life alo...   \n",
              "9997         Sam Taylor  This dark fable tells the story of four Englis...   \n",
              "9998         Renee Dyer  For Adriana Monroe life couldn’t get any bette...   \n",
              "9999        Jas T. Ward  After demands of thousands of fans in various ...   \n",
              "\n",
              "                                                 Genres  Avg_Rating  \\\n",
              "0     ['Classics', 'Fiction', 'Historical Fiction', ...        4.27   \n",
              "1     ['Fantasy', 'Fiction', 'Young Adult', 'Magic',...        4.47   \n",
              "2     ['Classics', 'Fiction', 'Romance', 'Historical...        4.28   \n",
              "3     ['Classics', 'Nonfiction', 'History', 'Biograp...        4.18   \n",
              "4     ['Classics', 'Fiction', 'Dystopia', 'Fantasy',...        3.98   \n",
              "...                                                 ...         ...   \n",
              "9995  ['Dystopia', 'Science Fiction', 'Post Apocalyp...        3.44   \n",
              "9996                                                 []        4.23   \n",
              "9997  ['Fiction', 'Horror', 'Dystopia', 'Coming Of A...        3.29   \n",
              "9998  ['New Adult', 'Romance', 'Contemporary Romance...        4.13   \n",
              "9999                                                 []        5.00   \n",
              "\n",
              "     Num_Ratings                                                URL  \n",
              "0      5,691,311  https://www.goodreads.com/book/show/2657.To_Ki...  \n",
              "1      9,278,135  https://www.goodreads.com/book/show/72193.Harr...  \n",
              "2      3,944,155  https://www.goodreads.com/book/show/1885.Pride...  \n",
              "3      3,488,438  https://www.goodreads.com/book/show/48855.The_...  \n",
              "4      3,575,172  https://www.goodreads.com/book/show/170448.Ani...  \n",
              "...          ...                                                ...  \n",
              "9995         276  https://www.goodreads.com/book/show/22085400-b...  \n",
              "9996          60  https://www.goodreads.com/book/show/20862902-d...  \n",
              "9997         383  https://www.goodreads.com/book/show/891262.The...  \n",
              "9998         263  https://www.goodreads.com/book/show/19347252-w...  \n",
              "9999          36  https://www.goodreads.com/book/show/21302552-b...  \n",
              "\n",
              "[10000 rows x 8 columns]"
            ]
          },
          "execution_count": 5,
          "metadata": {},
          "output_type": "execute_result"
        }
      ],
      "source": [
        "df = pd.read_csv('datasets/goodreads_data.csv')\n",
        "df"
      ]
    },
    {
      "cell_type": "code",
      "execution_count": 6,
      "metadata": {
        "colab": {
          "base_uri": "https://localhost:8080/"
        },
        "id": "ySMLKFS_QEzU",
        "outputId": "4855066e-be48-4e94-ee1b-4ce04ed2f42d"
      },
      "outputs": [
        {
          "data": {
            "text/plain": [
              "str"
            ]
          },
          "execution_count": 6,
          "metadata": {},
          "output_type": "execute_result"
        }
      ],
      "source": [
        "type(df['Genres'].iloc[0])"
      ]
    },
    {
      "cell_type": "code",
      "execution_count": 7,
      "metadata": {
        "colab": {
          "base_uri": "https://localhost:8080/",
          "height": 424
        },
        "id": "ZmZg0-9cQe8E",
        "outputId": "3ba7beb2-5072-43f1-e72d-5d07bab5458a"
      },
      "outputs": [
        {
          "data": {
            "text/html": [
              "<div>\n",
              "<style scoped>\n",
              "    .dataframe tbody tr th:only-of-type {\n",
              "        vertical-align: middle;\n",
              "    }\n",
              "\n",
              "    .dataframe tbody tr th {\n",
              "        vertical-align: top;\n",
              "    }\n",
              "\n",
              "    .dataframe thead th {\n",
              "        text-align: right;\n",
              "    }\n",
              "</style>\n",
              "<table border=\"1\" class=\"dataframe\">\n",
              "  <thead>\n",
              "    <tr style=\"text-align: right;\">\n",
              "      <th></th>\n",
              "      <th>Unnamed: 0</th>\n",
              "      <th>Book</th>\n",
              "      <th>Author</th>\n",
              "      <th>Description</th>\n",
              "      <th>Genres</th>\n",
              "      <th>Avg_Rating</th>\n",
              "      <th>Num_Ratings</th>\n",
              "    </tr>\n",
              "  </thead>\n",
              "  <tbody>\n",
              "    <tr>\n",
              "      <th>0</th>\n",
              "      <td>0</td>\n",
              "      <td>To Kill a Mockingbird</td>\n",
              "      <td>Harper Lee</td>\n",
              "      <td>The unforgettable novel of a childhood in a sl...</td>\n",
              "      <td>['Classics', 'Fiction', 'Historical Fiction', ...</td>\n",
              "      <td>4.27</td>\n",
              "      <td>5,691,311</td>\n",
              "    </tr>\n",
              "    <tr>\n",
              "      <th>1</th>\n",
              "      <td>1</td>\n",
              "      <td>Harry Potter and the Philosopher’s Stone (Harr...</td>\n",
              "      <td>J.K. Rowling</td>\n",
              "      <td>Harry Potter thinks he is an ordinary boy - un...</td>\n",
              "      <td>['Fantasy', 'Fiction', 'Young Adult', 'Magic',...</td>\n",
              "      <td>4.47</td>\n",
              "      <td>9,278,135</td>\n",
              "    </tr>\n",
              "    <tr>\n",
              "      <th>2</th>\n",
              "      <td>2</td>\n",
              "      <td>Pride and Prejudice</td>\n",
              "      <td>Jane Austen</td>\n",
              "      <td>Since its immediate success in 1813, Pride and...</td>\n",
              "      <td>['Classics', 'Fiction', 'Romance', 'Historical...</td>\n",
              "      <td>4.28</td>\n",
              "      <td>3,944,155</td>\n",
              "    </tr>\n",
              "    <tr>\n",
              "      <th>3</th>\n",
              "      <td>3</td>\n",
              "      <td>The Diary of a Young Girl</td>\n",
              "      <td>Anne Frank</td>\n",
              "      <td>Discovered in the attic in which she spent the...</td>\n",
              "      <td>['Classics', 'Nonfiction', 'History', 'Biograp...</td>\n",
              "      <td>4.18</td>\n",
              "      <td>3,488,438</td>\n",
              "    </tr>\n",
              "    <tr>\n",
              "      <th>4</th>\n",
              "      <td>4</td>\n",
              "      <td>Animal Farm</td>\n",
              "      <td>George Orwell</td>\n",
              "      <td>Librarian's note: There is an Alternate Cover ...</td>\n",
              "      <td>['Classics', 'Fiction', 'Dystopia', 'Fantasy',...</td>\n",
              "      <td>3.98</td>\n",
              "      <td>3,575,172</td>\n",
              "    </tr>\n",
              "    <tr>\n",
              "      <th>...</th>\n",
              "      <td>...</td>\n",
              "      <td>...</td>\n",
              "      <td>...</td>\n",
              "      <td>...</td>\n",
              "      <td>...</td>\n",
              "      <td>...</td>\n",
              "      <td>...</td>\n",
              "    </tr>\n",
              "    <tr>\n",
              "      <th>9995</th>\n",
              "      <td>9995</td>\n",
              "      <td>Breeders (Breeders Trilogy, #1)</td>\n",
              "      <td>Ashley Quigley</td>\n",
              "      <td>How far would you go? If human society was gen...</td>\n",
              "      <td>['Dystopia', 'Science Fiction', 'Post Apocalyp...</td>\n",
              "      <td>3.44</td>\n",
              "      <td>276</td>\n",
              "    </tr>\n",
              "    <tr>\n",
              "      <th>9996</th>\n",
              "      <td>9996</td>\n",
              "      <td>Dynamo</td>\n",
              "      <td>Eleanor Gustafson</td>\n",
              "      <td>Jeth Cavanaugh is searching for a new life alo...</td>\n",
              "      <td>[]</td>\n",
              "      <td>4.23</td>\n",
              "      <td>60</td>\n",
              "    </tr>\n",
              "    <tr>\n",
              "      <th>9997</th>\n",
              "      <td>9997</td>\n",
              "      <td>The Republic of Trees</td>\n",
              "      <td>Sam Taylor</td>\n",
              "      <td>This dark fable tells the story of four Englis...</td>\n",
              "      <td>['Fiction', 'Horror', 'Dystopia', 'Coming Of A...</td>\n",
              "      <td>3.29</td>\n",
              "      <td>383</td>\n",
              "    </tr>\n",
              "    <tr>\n",
              "      <th>9998</th>\n",
              "      <td>9998</td>\n",
              "      <td>Waking Up (Healing Hearts, #1)</td>\n",
              "      <td>Renee Dyer</td>\n",
              "      <td>For Adriana Monroe life couldn’t get any bette...</td>\n",
              "      <td>['New Adult', 'Romance', 'Contemporary Romance...</td>\n",
              "      <td>4.13</td>\n",
              "      <td>263</td>\n",
              "    </tr>\n",
              "    <tr>\n",
              "      <th>9999</th>\n",
              "      <td>9999</td>\n",
              "      <td>Bits and Pieces: Tales and Sonnets</td>\n",
              "      <td>Jas T. Ward</td>\n",
              "      <td>After demands of thousands of fans in various ...</td>\n",
              "      <td>[]</td>\n",
              "      <td>5.00</td>\n",
              "      <td>36</td>\n",
              "    </tr>\n",
              "  </tbody>\n",
              "</table>\n",
              "<p>10000 rows × 7 columns</p>\n",
              "</div>"
            ],
            "text/plain": [
              "      Unnamed: 0                                               Book  \\\n",
              "0              0                              To Kill a Mockingbird   \n",
              "1              1  Harry Potter and the Philosopher’s Stone (Harr...   \n",
              "2              2                                Pride and Prejudice   \n",
              "3              3                          The Diary of a Young Girl   \n",
              "4              4                                        Animal Farm   \n",
              "...          ...                                                ...   \n",
              "9995        9995                    Breeders (Breeders Trilogy, #1)   \n",
              "9996        9996                                             Dynamo   \n",
              "9997        9997                              The Republic of Trees   \n",
              "9998        9998                     Waking Up (Healing Hearts, #1)   \n",
              "9999        9999                 Bits and Pieces: Tales and Sonnets   \n",
              "\n",
              "                 Author                                        Description  \\\n",
              "0            Harper Lee  The unforgettable novel of a childhood in a sl...   \n",
              "1          J.K. Rowling  Harry Potter thinks he is an ordinary boy - un...   \n",
              "2           Jane Austen  Since its immediate success in 1813, Pride and...   \n",
              "3            Anne Frank  Discovered in the attic in which she spent the...   \n",
              "4         George Orwell  Librarian's note: There is an Alternate Cover ...   \n",
              "...                 ...                                                ...   \n",
              "9995     Ashley Quigley  How far would you go? If human society was gen...   \n",
              "9996  Eleanor Gustafson  Jeth Cavanaugh is searching for a new life alo...   \n",
              "9997         Sam Taylor  This dark fable tells the story of four Englis...   \n",
              "9998         Renee Dyer  For Adriana Monroe life couldn’t get any bette...   \n",
              "9999        Jas T. Ward  After demands of thousands of fans in various ...   \n",
              "\n",
              "                                                 Genres  Avg_Rating  \\\n",
              "0     ['Classics', 'Fiction', 'Historical Fiction', ...        4.27   \n",
              "1     ['Fantasy', 'Fiction', 'Young Adult', 'Magic',...        4.47   \n",
              "2     ['Classics', 'Fiction', 'Romance', 'Historical...        4.28   \n",
              "3     ['Classics', 'Nonfiction', 'History', 'Biograp...        4.18   \n",
              "4     ['Classics', 'Fiction', 'Dystopia', 'Fantasy',...        3.98   \n",
              "...                                                 ...         ...   \n",
              "9995  ['Dystopia', 'Science Fiction', 'Post Apocalyp...        3.44   \n",
              "9996                                                 []        4.23   \n",
              "9997  ['Fiction', 'Horror', 'Dystopia', 'Coming Of A...        3.29   \n",
              "9998  ['New Adult', 'Romance', 'Contemporary Romance...        4.13   \n",
              "9999                                                 []        5.00   \n",
              "\n",
              "     Num_Ratings  \n",
              "0      5,691,311  \n",
              "1      9,278,135  \n",
              "2      3,944,155  \n",
              "3      3,488,438  \n",
              "4      3,575,172  \n",
              "...          ...  \n",
              "9995         276  \n",
              "9996          60  \n",
              "9997         383  \n",
              "9998         263  \n",
              "9999          36  \n",
              "\n",
              "[10000 rows x 7 columns]"
            ]
          },
          "execution_count": 7,
          "metadata": {},
          "output_type": "execute_result"
        }
      ],
      "source": [
        "Books = pd.DataFrame(df,columns=['Unnamed: 0', 'Book', 'Author', 'Description', 'Genres', 'Avg_Rating',\n",
        "       'Num_Ratings'])\n",
        "Books"
      ]
    },
    {
      "cell_type": "code",
      "execution_count": 8,
      "metadata": {
        "colab": {
          "base_uri": "https://localhost:8080/",
          "height": 424
        },
        "id": "36ly0d2-RR97",
        "outputId": "b9960fff-d4b8-4ef6-9758-2a86cfbde473"
      },
      "outputs": [
        {
          "data": {
            "text/html": [
              "<div>\n",
              "<style scoped>\n",
              "    .dataframe tbody tr th:only-of-type {\n",
              "        vertical-align: middle;\n",
              "    }\n",
              "\n",
              "    .dataframe tbody tr th {\n",
              "        vertical-align: top;\n",
              "    }\n",
              "\n",
              "    .dataframe thead th {\n",
              "        text-align: right;\n",
              "    }\n",
              "</style>\n",
              "<table border=\"1\" class=\"dataframe\">\n",
              "  <thead>\n",
              "    <tr style=\"text-align: right;\">\n",
              "      <th></th>\n",
              "      <th>id</th>\n",
              "      <th>title</th>\n",
              "      <th>author</th>\n",
              "      <th>description</th>\n",
              "      <th>genres</th>\n",
              "      <th>avg_rating</th>\n",
              "      <th>num_ratings</th>\n",
              "    </tr>\n",
              "  </thead>\n",
              "  <tbody>\n",
              "    <tr>\n",
              "      <th>0</th>\n",
              "      <td>0</td>\n",
              "      <td>To Kill a Mockingbird</td>\n",
              "      <td>Harper Lee</td>\n",
              "      <td>The unforgettable novel of a childhood in a sl...</td>\n",
              "      <td>['Classics', 'Fiction', 'Historical Fiction', ...</td>\n",
              "      <td>4.27</td>\n",
              "      <td>5,691,311</td>\n",
              "    </tr>\n",
              "    <tr>\n",
              "      <th>1</th>\n",
              "      <td>1</td>\n",
              "      <td>Harry Potter and the Philosopher’s Stone (Harr...</td>\n",
              "      <td>J.K. Rowling</td>\n",
              "      <td>Harry Potter thinks he is an ordinary boy - un...</td>\n",
              "      <td>['Fantasy', 'Fiction', 'Young Adult', 'Magic',...</td>\n",
              "      <td>4.47</td>\n",
              "      <td>9,278,135</td>\n",
              "    </tr>\n",
              "    <tr>\n",
              "      <th>2</th>\n",
              "      <td>2</td>\n",
              "      <td>Pride and Prejudice</td>\n",
              "      <td>Jane Austen</td>\n",
              "      <td>Since its immediate success in 1813, Pride and...</td>\n",
              "      <td>['Classics', 'Fiction', 'Romance', 'Historical...</td>\n",
              "      <td>4.28</td>\n",
              "      <td>3,944,155</td>\n",
              "    </tr>\n",
              "    <tr>\n",
              "      <th>3</th>\n",
              "      <td>3</td>\n",
              "      <td>The Diary of a Young Girl</td>\n",
              "      <td>Anne Frank</td>\n",
              "      <td>Discovered in the attic in which she spent the...</td>\n",
              "      <td>['Classics', 'Nonfiction', 'History', 'Biograp...</td>\n",
              "      <td>4.18</td>\n",
              "      <td>3,488,438</td>\n",
              "    </tr>\n",
              "    <tr>\n",
              "      <th>4</th>\n",
              "      <td>4</td>\n",
              "      <td>Animal Farm</td>\n",
              "      <td>George Orwell</td>\n",
              "      <td>Librarian's note: There is an Alternate Cover ...</td>\n",
              "      <td>['Classics', 'Fiction', 'Dystopia', 'Fantasy',...</td>\n",
              "      <td>3.98</td>\n",
              "      <td>3,575,172</td>\n",
              "    </tr>\n",
              "    <tr>\n",
              "      <th>...</th>\n",
              "      <td>...</td>\n",
              "      <td>...</td>\n",
              "      <td>...</td>\n",
              "      <td>...</td>\n",
              "      <td>...</td>\n",
              "      <td>...</td>\n",
              "      <td>...</td>\n",
              "    </tr>\n",
              "    <tr>\n",
              "      <th>9995</th>\n",
              "      <td>9995</td>\n",
              "      <td>Breeders (Breeders Trilogy, #1)</td>\n",
              "      <td>Ashley Quigley</td>\n",
              "      <td>How far would you go? If human society was gen...</td>\n",
              "      <td>['Dystopia', 'Science Fiction', 'Post Apocalyp...</td>\n",
              "      <td>3.44</td>\n",
              "      <td>276</td>\n",
              "    </tr>\n",
              "    <tr>\n",
              "      <th>9996</th>\n",
              "      <td>9996</td>\n",
              "      <td>Dynamo</td>\n",
              "      <td>Eleanor Gustafson</td>\n",
              "      <td>Jeth Cavanaugh is searching for a new life alo...</td>\n",
              "      <td>[]</td>\n",
              "      <td>4.23</td>\n",
              "      <td>60</td>\n",
              "    </tr>\n",
              "    <tr>\n",
              "      <th>9997</th>\n",
              "      <td>9997</td>\n",
              "      <td>The Republic of Trees</td>\n",
              "      <td>Sam Taylor</td>\n",
              "      <td>This dark fable tells the story of four Englis...</td>\n",
              "      <td>['Fiction', 'Horror', 'Dystopia', 'Coming Of A...</td>\n",
              "      <td>3.29</td>\n",
              "      <td>383</td>\n",
              "    </tr>\n",
              "    <tr>\n",
              "      <th>9998</th>\n",
              "      <td>9998</td>\n",
              "      <td>Waking Up (Healing Hearts, #1)</td>\n",
              "      <td>Renee Dyer</td>\n",
              "      <td>For Adriana Monroe life couldn’t get any bette...</td>\n",
              "      <td>['New Adult', 'Romance', 'Contemporary Romance...</td>\n",
              "      <td>4.13</td>\n",
              "      <td>263</td>\n",
              "    </tr>\n",
              "    <tr>\n",
              "      <th>9999</th>\n",
              "      <td>9999</td>\n",
              "      <td>Bits and Pieces: Tales and Sonnets</td>\n",
              "      <td>Jas T. Ward</td>\n",
              "      <td>After demands of thousands of fans in various ...</td>\n",
              "      <td>[]</td>\n",
              "      <td>5.00</td>\n",
              "      <td>36</td>\n",
              "    </tr>\n",
              "  </tbody>\n",
              "</table>\n",
              "<p>10000 rows × 7 columns</p>\n",
              "</div>"
            ],
            "text/plain": [
              "        id                                              title  \\\n",
              "0        0                              To Kill a Mockingbird   \n",
              "1        1  Harry Potter and the Philosopher’s Stone (Harr...   \n",
              "2        2                                Pride and Prejudice   \n",
              "3        3                          The Diary of a Young Girl   \n",
              "4        4                                        Animal Farm   \n",
              "...    ...                                                ...   \n",
              "9995  9995                    Breeders (Breeders Trilogy, #1)   \n",
              "9996  9996                                             Dynamo   \n",
              "9997  9997                              The Republic of Trees   \n",
              "9998  9998                     Waking Up (Healing Hearts, #1)   \n",
              "9999  9999                 Bits and Pieces: Tales and Sonnets   \n",
              "\n",
              "                 author                                        description  \\\n",
              "0            Harper Lee  The unforgettable novel of a childhood in a sl...   \n",
              "1          J.K. Rowling  Harry Potter thinks he is an ordinary boy - un...   \n",
              "2           Jane Austen  Since its immediate success in 1813, Pride and...   \n",
              "3            Anne Frank  Discovered in the attic in which she spent the...   \n",
              "4         George Orwell  Librarian's note: There is an Alternate Cover ...   \n",
              "...                 ...                                                ...   \n",
              "9995     Ashley Quigley  How far would you go? If human society was gen...   \n",
              "9996  Eleanor Gustafson  Jeth Cavanaugh is searching for a new life alo...   \n",
              "9997         Sam Taylor  This dark fable tells the story of four Englis...   \n",
              "9998         Renee Dyer  For Adriana Monroe life couldn’t get any bette...   \n",
              "9999        Jas T. Ward  After demands of thousands of fans in various ...   \n",
              "\n",
              "                                                 genres  avg_rating  \\\n",
              "0     ['Classics', 'Fiction', 'Historical Fiction', ...        4.27   \n",
              "1     ['Fantasy', 'Fiction', 'Young Adult', 'Magic',...        4.47   \n",
              "2     ['Classics', 'Fiction', 'Romance', 'Historical...        4.28   \n",
              "3     ['Classics', 'Nonfiction', 'History', 'Biograp...        4.18   \n",
              "4     ['Classics', 'Fiction', 'Dystopia', 'Fantasy',...        3.98   \n",
              "...                                                 ...         ...   \n",
              "9995  ['Dystopia', 'Science Fiction', 'Post Apocalyp...        3.44   \n",
              "9996                                                 []        4.23   \n",
              "9997  ['Fiction', 'Horror', 'Dystopia', 'Coming Of A...        3.29   \n",
              "9998  ['New Adult', 'Romance', 'Contemporary Romance...        4.13   \n",
              "9999                                                 []        5.00   \n",
              "\n",
              "     num_ratings  \n",
              "0      5,691,311  \n",
              "1      9,278,135  \n",
              "2      3,944,155  \n",
              "3      3,488,438  \n",
              "4      3,575,172  \n",
              "...          ...  \n",
              "9995         276  \n",
              "9996          60  \n",
              "9997         383  \n",
              "9998         263  \n",
              "9999          36  \n",
              "\n",
              "[10000 rows x 7 columns]"
            ]
          },
          "execution_count": 8,
          "metadata": {},
          "output_type": "execute_result"
        }
      ],
      "source": [
        "Books.rename(columns={'Unnamed: 0':'id'}, inplace = True)\n",
        "Books.rename(columns={'Book':'title'}, inplace = True)\n",
        "Books.rename(columns={'Author':'author'}, inplace = True)\n",
        "Books.rename(columns={'Description':'description'}, inplace = True)\n",
        "Books.rename(columns={'Genres':'genres'}, inplace = True)\n",
        "Books.rename(columns={'Avg_Rating':'avg_rating'}, inplace = True)\n",
        "Books.rename(columns={'Num_Ratings':'num_ratings'}, inplace = True)\n",
        "Books"
      ]
    },
    {
      "cell_type": "code",
      "execution_count": 9,
      "metadata": {
        "colab": {
          "base_uri": "https://localhost:8080/",
          "height": 304
        },
        "id": "RogXWWxXRctb",
        "outputId": "33cd0b11-460c-4eb6-f4b4-2e6b849d9250"
      },
      "outputs": [
        {
          "data": {
            "text/plain": [
              "id              0\n",
              "title           0\n",
              "author          0\n",
              "description    77\n",
              "genres          0\n",
              "avg_rating      0\n",
              "num_ratings     0\n",
              "dtype: int64"
            ]
          },
          "execution_count": 9,
          "metadata": {},
          "output_type": "execute_result"
        }
      ],
      "source": [
        "Books.isna().sum()"
      ]
    },
    {
      "cell_type": "code",
      "execution_count": 10,
      "metadata": {
        "id": "TiVRy3dzRgXz"
      },
      "outputs": [],
      "source": [
        "Books.dropna(inplace=True)"
      ]
    },
    {
      "cell_type": "code",
      "execution_count": 11,
      "metadata": {
        "colab": {
          "base_uri": "https://localhost:8080/"
        },
        "id": "X8TXcIciRj1T",
        "outputId": "3dd571ed-ec8c-491b-910a-550de4e00178"
      },
      "outputs": [
        {
          "data": {
            "text/plain": [
              "(9923, 7)"
            ]
          },
          "execution_count": 11,
          "metadata": {},
          "output_type": "execute_result"
        }
      ],
      "source": [
        "Books.shape"
      ]
    },
    {
      "cell_type": "code",
      "execution_count": 12,
      "metadata": {
        "colab": {
          "base_uri": "https://localhost:8080/",
          "height": 35
        },
        "id": "Ab7wDs1sUKDa",
        "outputId": "ccc81894-ac53-43fd-ce67-432f6a876040"
      },
      "outputs": [
        {
          "data": {
            "text/plain": [
              "\"['Classics', 'Fiction', 'Historical Fiction', 'School', 'Literature', 'Young Adult', 'Historical']\""
            ]
          },
          "execution_count": 12,
          "metadata": {},
          "output_type": "execute_result"
        }
      ],
      "source": [
        "Books['genres'].iloc[0]"
      ]
    },
    {
      "cell_type": "code",
      "execution_count": 13,
      "metadata": {
        "colab": {
          "base_uri": "https://localhost:8080/",
          "height": 597
        },
        "id": "yXAA4bONR64c",
        "outputId": "4c7a96ac-5cac-4e8e-9926-11787ad93971"
      },
      "outputs": [
        {
          "data": {
            "text/html": [
              "<div>\n",
              "<style scoped>\n",
              "    .dataframe tbody tr th:only-of-type {\n",
              "        vertical-align: middle;\n",
              "    }\n",
              "\n",
              "    .dataframe tbody tr th {\n",
              "        vertical-align: top;\n",
              "    }\n",
              "\n",
              "    .dataframe thead th {\n",
              "        text-align: right;\n",
              "    }\n",
              "</style>\n",
              "<table border=\"1\" class=\"dataframe\">\n",
              "  <thead>\n",
              "    <tr style=\"text-align: right;\">\n",
              "      <th></th>\n",
              "      <th>id</th>\n",
              "      <th>title</th>\n",
              "      <th>author</th>\n",
              "      <th>description</th>\n",
              "      <th>genres</th>\n",
              "      <th>avg_rating</th>\n",
              "      <th>num_ratings</th>\n",
              "    </tr>\n",
              "  </thead>\n",
              "  <tbody>\n",
              "    <tr>\n",
              "      <th>0</th>\n",
              "      <td>0</td>\n",
              "      <td>To Kill a Mockingbird</td>\n",
              "      <td>Harper Lee</td>\n",
              "      <td>The unforgettable novel of a childhood in a sl...</td>\n",
              "      <td>['Classics', 'Fiction', 'Historical Fiction', ...</td>\n",
              "      <td>4.27</td>\n",
              "      <td>5,691,311</td>\n",
              "    </tr>\n",
              "    <tr>\n",
              "      <th>1</th>\n",
              "      <td>1</td>\n",
              "      <td>Harry Potter and the Philosopher’s Stone (Harr...</td>\n",
              "      <td>J.K. Rowling</td>\n",
              "      <td>Harry Potter thinks he is an ordinary boy - un...</td>\n",
              "      <td>['Fantasy', 'Fiction', 'Young Adult', 'Magic',...</td>\n",
              "      <td>4.47</td>\n",
              "      <td>9,278,135</td>\n",
              "    </tr>\n",
              "    <tr>\n",
              "      <th>2</th>\n",
              "      <td>2</td>\n",
              "      <td>Pride and Prejudice</td>\n",
              "      <td>Jane Austen</td>\n",
              "      <td>Since its immediate success in 1813, Pride and...</td>\n",
              "      <td>['Classics', 'Fiction', 'Romance', 'Historical...</td>\n",
              "      <td>4.28</td>\n",
              "      <td>3,944,155</td>\n",
              "    </tr>\n",
              "    <tr>\n",
              "      <th>3</th>\n",
              "      <td>3</td>\n",
              "      <td>The Diary of a Young Girl</td>\n",
              "      <td>Anne Frank</td>\n",
              "      <td>Discovered in the attic in which she spent the...</td>\n",
              "      <td>['Classics', 'Nonfiction', 'History', 'Biograp...</td>\n",
              "      <td>4.18</td>\n",
              "      <td>3,488,438</td>\n",
              "    </tr>\n",
              "    <tr>\n",
              "      <th>4</th>\n",
              "      <td>4</td>\n",
              "      <td>Animal Farm</td>\n",
              "      <td>George Orwell</td>\n",
              "      <td>Librarian's note: There is an Alternate Cover ...</td>\n",
              "      <td>['Classics', 'Fiction', 'Dystopia', 'Fantasy',...</td>\n",
              "      <td>3.98</td>\n",
              "      <td>3,575,172</td>\n",
              "    </tr>\n",
              "    <tr>\n",
              "      <th>...</th>\n",
              "      <td>...</td>\n",
              "      <td>...</td>\n",
              "      <td>...</td>\n",
              "      <td>...</td>\n",
              "      <td>...</td>\n",
              "      <td>...</td>\n",
              "      <td>...</td>\n",
              "    </tr>\n",
              "    <tr>\n",
              "      <th>9995</th>\n",
              "      <td>9995</td>\n",
              "      <td>Breeders (Breeders Trilogy, #1)</td>\n",
              "      <td>Ashley Quigley</td>\n",
              "      <td>How far would you go? If human society was gen...</td>\n",
              "      <td>['Dystopia', 'Science Fiction', 'Post Apocalyp...</td>\n",
              "      <td>3.44</td>\n",
              "      <td>276</td>\n",
              "    </tr>\n",
              "    <tr>\n",
              "      <th>9996</th>\n",
              "      <td>9996</td>\n",
              "      <td>Dynamo</td>\n",
              "      <td>Eleanor Gustafson</td>\n",
              "      <td>Jeth Cavanaugh is searching for a new life alo...</td>\n",
              "      <td>[]</td>\n",
              "      <td>4.23</td>\n",
              "      <td>60</td>\n",
              "    </tr>\n",
              "    <tr>\n",
              "      <th>9997</th>\n",
              "      <td>9997</td>\n",
              "      <td>The Republic of Trees</td>\n",
              "      <td>Sam Taylor</td>\n",
              "      <td>This dark fable tells the story of four Englis...</td>\n",
              "      <td>['Fiction', 'Horror', 'Dystopia', 'Coming Of A...</td>\n",
              "      <td>3.29</td>\n",
              "      <td>383</td>\n",
              "    </tr>\n",
              "    <tr>\n",
              "      <th>9998</th>\n",
              "      <td>9998</td>\n",
              "      <td>Waking Up (Healing Hearts, #1)</td>\n",
              "      <td>Renee Dyer</td>\n",
              "      <td>For Adriana Monroe life couldn’t get any bette...</td>\n",
              "      <td>['New Adult', 'Romance', 'Contemporary Romance...</td>\n",
              "      <td>4.13</td>\n",
              "      <td>263</td>\n",
              "    </tr>\n",
              "    <tr>\n",
              "      <th>9999</th>\n",
              "      <td>9999</td>\n",
              "      <td>Bits and Pieces: Tales and Sonnets</td>\n",
              "      <td>Jas T. Ward</td>\n",
              "      <td>After demands of thousands of fans in various ...</td>\n",
              "      <td>[]</td>\n",
              "      <td>5.00</td>\n",
              "      <td>36</td>\n",
              "    </tr>\n",
              "  </tbody>\n",
              "</table>\n",
              "<p>9923 rows × 7 columns</p>\n",
              "</div>"
            ],
            "text/plain": [
              "        id                                              title  \\\n",
              "0        0                              To Kill a Mockingbird   \n",
              "1        1  Harry Potter and the Philosopher’s Stone (Harr...   \n",
              "2        2                                Pride and Prejudice   \n",
              "3        3                          The Diary of a Young Girl   \n",
              "4        4                                        Animal Farm   \n",
              "...    ...                                                ...   \n",
              "9995  9995                    Breeders (Breeders Trilogy, #1)   \n",
              "9996  9996                                             Dynamo   \n",
              "9997  9997                              The Republic of Trees   \n",
              "9998  9998                     Waking Up (Healing Hearts, #1)   \n",
              "9999  9999                 Bits and Pieces: Tales and Sonnets   \n",
              "\n",
              "                 author                                        description  \\\n",
              "0            Harper Lee  The unforgettable novel of a childhood in a sl...   \n",
              "1          J.K. Rowling  Harry Potter thinks he is an ordinary boy - un...   \n",
              "2           Jane Austen  Since its immediate success in 1813, Pride and...   \n",
              "3            Anne Frank  Discovered in the attic in which she spent the...   \n",
              "4         George Orwell  Librarian's note: There is an Alternate Cover ...   \n",
              "...                 ...                                                ...   \n",
              "9995     Ashley Quigley  How far would you go? If human society was gen...   \n",
              "9996  Eleanor Gustafson  Jeth Cavanaugh is searching for a new life alo...   \n",
              "9997         Sam Taylor  This dark fable tells the story of four Englis...   \n",
              "9998         Renee Dyer  For Adriana Monroe life couldn’t get any bette...   \n",
              "9999        Jas T. Ward  After demands of thousands of fans in various ...   \n",
              "\n",
              "                                                 genres  avg_rating  \\\n",
              "0     ['Classics', 'Fiction', 'Historical Fiction', ...        4.27   \n",
              "1     ['Fantasy', 'Fiction', 'Young Adult', 'Magic',...        4.47   \n",
              "2     ['Classics', 'Fiction', 'Romance', 'Historical...        4.28   \n",
              "3     ['Classics', 'Nonfiction', 'History', 'Biograp...        4.18   \n",
              "4     ['Classics', 'Fiction', 'Dystopia', 'Fantasy',...        3.98   \n",
              "...                                                 ...         ...   \n",
              "9995  ['Dystopia', 'Science Fiction', 'Post Apocalyp...        3.44   \n",
              "9996                                                 []        4.23   \n",
              "9997  ['Fiction', 'Horror', 'Dystopia', 'Coming Of A...        3.29   \n",
              "9998  ['New Adult', 'Romance', 'Contemporary Romance...        4.13   \n",
              "9999                                                 []        5.00   \n",
              "\n",
              "     num_ratings  \n",
              "0      5,691,311  \n",
              "1      9,278,135  \n",
              "2      3,944,155  \n",
              "3      3,488,438  \n",
              "4      3,575,172  \n",
              "...          ...  \n",
              "9995         276  \n",
              "9996          60  \n",
              "9997         383  \n",
              "9998         263  \n",
              "9999          36  \n",
              "\n",
              "[9923 rows x 7 columns]"
            ]
          },
          "execution_count": 13,
          "metadata": {},
          "output_type": "execute_result"
        }
      ],
      "source": [
        "Books"
      ]
    },
    {
      "cell_type": "code",
      "execution_count": 14,
      "metadata": {
        "id": "CFDa79OAU5Ki"
      },
      "outputs": [],
      "source": [
        "Books['genres'] = Books['genres'].apply(\n",
        "    lambda x: ast.literal_eval(x) if pd.notnull(x) else []\n",
        ")"
      ]
    },
    {
      "cell_type": "code",
      "execution_count": 15,
      "metadata": {
        "colab": {
          "base_uri": "https://localhost:8080/"
        },
        "id": "UXD7CUfHVRyR",
        "outputId": "1b1dc9d2-e5cd-4092-c57f-0c0808d3e71b"
      },
      "outputs": [
        {
          "data": {
            "text/plain": [
              "list"
            ]
          },
          "execution_count": 15,
          "metadata": {},
          "output_type": "execute_result"
        }
      ],
      "source": [
        "type(Books['genres'].iloc[0])"
      ]
    },
    {
      "cell_type": "code",
      "execution_count": 16,
      "metadata": {
        "colab": {
          "base_uri": "https://localhost:8080/"
        },
        "id": "7cZut-M-VdA5",
        "outputId": "d730896d-6076-4024-eb7d-79285f193885"
      },
      "outputs": [
        {
          "data": {
            "text/plain": [
              "['Classics',\n",
              " 'Fiction',\n",
              " 'Historical Fiction',\n",
              " 'School',\n",
              " 'Literature',\n",
              " 'Young Adult',\n",
              " 'Historical']"
            ]
          },
          "execution_count": 16,
          "metadata": {},
          "output_type": "execute_result"
        }
      ],
      "source": [
        "Books['genres'].iloc[0]"
      ]
    },
    {
      "cell_type": "code",
      "execution_count": 17,
      "metadata": {
        "id": "9ARVHB1XVj4Z"
      },
      "outputs": [],
      "source": [
        "Books['tags'] = (\n",
        "    Books['title'] + ' ' +\n",
        "    Books['author'] + ' ' +\n",
        "    Books['genres'].apply(lambda x: ' '.join(x))+ ' ' +\n",
        "    Books['description']\n",
        ")"
      ]
    },
    {
      "cell_type": "code",
      "execution_count": 18,
      "metadata": {
        "colab": {
          "base_uri": "https://localhost:8080/",
          "height": 105
        },
        "id": "Bjf5TWelWEmZ",
        "outputId": "c7862c97-fe7b-4c06-f33f-cd175d7dd429"
      },
      "outputs": [
        {
          "data": {
            "text/plain": [
              "'To Kill a Mockingbird Harper Lee Classics Fiction Historical Fiction School Literature Young Adult Historical The unforgettable novel of a childhood in a sleepy Southern town and the crisis of conscience that rocked it. \"To Kill A Mockingbird\" became both an instant bestseller and a critical success when it was first published in 1960. It went on to win the Pulitzer Prize in 1961 and was later made into an Academy Award-winning film, also a classic.Compassionate, dramatic, and deeply moving, \"To Kill A Mockingbird\" takes readers to the roots of human behavior - to innocence and experience, kindness and cruelty, love and hatred, humor and pathos. Now with over 18 million copies in print and translated into forty languages, this regional story by a young Alabama woman claims universal appeal. Harper Lee always considered her book to be a simple love story. Today it is regarded as a masterpiece of American literature.'"
            ]
          },
          "execution_count": 18,
          "metadata": {},
          "output_type": "execute_result"
        }
      ],
      "source": [
        "Books['tags'].iloc[0]"
      ]
    },
    {
      "cell_type": "code",
      "execution_count": 19,
      "metadata": {
        "id": "uIYSGyvMWlv4"
      },
      "outputs": [],
      "source": [
        "Books['genres'] = Books['genres'].apply(\n",
        "    lambda genre_list: [g.strip().lower() for g in genre_list]\n",
        ")"
      ]
    },
    {
      "cell_type": "code",
      "execution_count": 20,
      "metadata": {
        "colab": {
          "base_uri": "https://localhost:8080/"
        },
        "id": "-VC1kHgUWnqQ",
        "outputId": "806aa5a9-dec2-4502-c4c0-ad866bf7437f"
      },
      "outputs": [
        {
          "data": {
            "text/plain": [
              "['classics',\n",
              " 'fiction',\n",
              " 'historical fiction',\n",
              " 'school',\n",
              " 'literature',\n",
              " 'young adult',\n",
              " 'historical']"
            ]
          },
          "execution_count": 20,
          "metadata": {},
          "output_type": "execute_result"
        }
      ],
      "source": [
        "Books['genres'].iloc[0]"
      ]
    },
    {
      "cell_type": "code",
      "execution_count": 21,
      "metadata": {
        "id": "TLESNE1QW3IR"
      },
      "outputs": [],
      "source": [
        "Books.to_csv('books.csv', index=False)"
      ]
    }
  ],
  "metadata": {
    "colab": {
      "provenance": []
    },
    "kernelspec": {
      "display_name": "Python 3",
      "name": "python3"
    },
    "language_info": {
      "codemirror_mode": {
        "name": "ipython",
        "version": 3
      },
      "file_extension": ".py",
      "mimetype": "text/x-python",
      "name": "python",
      "nbconvert_exporter": "python",
      "pygments_lexer": "ipython3",
      "version": "3.13.5"
    }
  },
  "nbformat": 4,
  "nbformat_minor": 0
}
